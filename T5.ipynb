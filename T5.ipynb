{
  "nbformat": 4,
  "nbformat_minor": 0,
  "metadata": {
    "colab": {
      "provenance": [],
      "gpuType": "T4"
    },
    "kernelspec": {
      "name": "python3",
      "display_name": "Python 3"
    },
    "language_info": {
      "name": "python"
    },
    "accelerator": "GPU"
  },
  "cells": [
    {
      "cell_type": "code",
      "execution_count": null,
      "metadata": {
        "id": "YEbIp-BVojat"
      },
      "outputs": [],
      "source": [
        "'''🔹 What is T5?\n",
        "\n",
        "Full name: Text-to-Text Transfer Transformer\n",
        "\n",
        "Developed by: Google Research (2019)\n",
        "\n",
        "Idea: Convert every NLP task into a text-to-text format.\n",
        "\n",
        "Input = Text\n",
        "\n",
        "Output = Text\n",
        "\n",
        "🔹 Why is T5 Special?\n",
        "\n",
        "Most older NLP models were built for specific tasks (e.g., BERT for classification, GPT for text generation).\n",
        "T5 unifies everything → one model, many tasks.\n",
        "\n",
        "Examples:\n",
        "\n",
        "Translation: \"translate English to German: How are you?\" → \"Wie geht es dir?\"\n",
        "\n",
        "Summarization: \"summarize: long paragraph...\" → \"short summary\"\n",
        "\n",
        "Question Answering: \"question: Where is Taj Mahal? context: Taj Mahal is in India.\" → \"India\"\n",
        "\n",
        "Classification: \"classify sentiment: I love this movie\" → \"positive\"\n",
        "\n",
        "🔹 Architecture\n",
        "\n",
        "Based on Transformer Encoder-Decoder (Seq2Seq)\n",
        "\n",
        "Similar to BERT (encoder) + GPT (decoder) combined.\n",
        "\n",
        "Trained on a massive dataset called C4 (Colossal Clean Crawled Corpus).\n",
        "\n",
        "🔹 Variants\n",
        "\n",
        "t5-small (60M parameters) → Fast, lightweight\n",
        "\n",
        "t5-base (220M)\n",
        "\n",
        "t5-large (770M)\n",
        "\n",
        "t5-3B (3 billion)\n",
        "\n",
        "t5-11B (11 billion, very powerful)\n",
        "\n",
        "🔹 Popular Use Cases\n",
        "\n",
        "Text Summarization\n",
        "\n",
        "Machine Translation\n",
        "\n",
        "Question Answering\n",
        "\n",
        "Text Classification\n",
        "\n",
        "Paraphrasing / Rewriting\n",
        "\n",
        "👉 In short:\n",
        "T5 = one universal NLP model that treats everything as a text-to-text problem.'''"
      ]
    },
    {
      "cell_type": "code",
      "source": [
        "# Summerization\n",
        "\n",
        "from transformers import T5ForConditionalGeneration, T5Tokenizer\n",
        "\n",
        "# Load model and tokenizer\n",
        "model = T5ForConditionalGeneration.from_pretrained(\"t5-small\")\n",
        "tokenizer = T5Tokenizer.from_pretrained(\"t5-small\")\n",
        "\n",
        "# Your long input text\n",
        "text = \"\"\"\n",
        "The phenomenon of rapid urbanization, particularly in the Global South, has precipitated a multifaceted array of socioeconomic, environmental, and infrastructural challenges that demand both immediate and long-term strategic responses. As cities expand at unprecedented rates—often outpacing the capacity of municipal governments to regulate growth—informal settlements proliferate, creating densely populated areas with limited access to clean water, sanitation, and healthcare. These settlements are not merely the byproducts of poverty but also reflect systemic failures in land-use policy, governance, and the financial exclusion of low-income populations from formal housing markets.\n",
        "\n",
        "Compounding this complexity is the intensifying impact of climate change, which disproportionately affects urban centers in low-lying coastal regions. Rising sea levels, erratic weather patterns, and increased frequency of extreme weather events exacerbate the vulnerability of informal communities, many of which lack the physical infrastructure and economic resilience to adapt. Urban planning in these contexts is further hindered by political fragmentation, corruption, and a dearth of reliable data, leading to a disconnect between policy frameworks and the lived realities of urban dwellers.\n",
        "\n",
        "However, recent interdisciplinary approaches that integrate participatory governance, data-driven planning, and localized climate adaptation strategies have shown promise. These efforts emphasize the importance of co-production—wherein community members, planners, and policymakers collaboratively design interventions tailored to specific local contexts. While scaling such models remains a formidable challenge, they offer a potential paradigm shift away from top-down, technocratic planning toward more inclusive and resilient urban futures.\n",
        "\"\"\"\n",
        "\n",
        "# Prepend \"summarize:\" for T5\n",
        "input_text = \"summarize: \" + text\n",
        "\n",
        "# Tokenize input\n",
        "inputs = tokenizer(input_text, return_tensors=\"pt\", max_length=512, truncation=True)\n",
        "\n",
        "# Generate summary\n",
        "summary_ids = model.generate(\n",
        "    inputs[\"input_ids\"],\n",
        "    max_length=150,\n",
        "    num_beams=4,\n",
        "    early_stopping=True\n",
        ")\n",
        "\n",
        "# Decode summary\n",
        "summary = tokenizer.decode(summary_ids[0], skip_special_tokens=True)\n",
        "print(summary)\n"
      ],
      "metadata": {
        "colab": {
          "base_uri": "https://localhost:8080/"
        },
        "id": "ub63ta-Boqlf",
        "outputId": "883a2cc6-5e4d-4087-986b-ec15f348487e"
      },
      "execution_count": 7,
      "outputs": [
        {
          "output_type": "stream",
          "name": "stdout",
          "text": [
            "rising sea levels, erratic weather patterns, and increased frequency of extreme weather events exacerbate the vulnerability of informal communities. rising sea levels, erratic weather patterns, and increased frequency of extreme weather events exacerbate the vulnerability of informal communities. urban planning in these contexts is further hindered by political fragmentation, corruption, and a dearth of reliable data.\n"
          ]
        }
      ]
    },
    {
      "cell_type": "code",
      "source": [
        "# Translation\n",
        "\n",
        "from transformers import T5Tokenizer ,T5ForConditionalGeneration\n",
        "model_name = \"t5-large\"\n",
        "model = T5ForConditionalGeneration.from_pretrained(model_name)\n",
        "tokenizer = T5Tokenizer.from_pretrained(model_name)\n",
        "\n",
        "text = \"translate English to French: The weather is nice today.\"\n",
        "\n",
        "input = tokenizer(text,return_tensors=\"pt\",max_length=256,truncation=True)\n",
        "\n",
        "output = model.generate(**input)\n",
        "decode = tokenizer.decode(output[0],skip_special_tokens=True)\n",
        "print(decode)\n",
        "\n"
      ],
      "metadata": {
        "colab": {
          "base_uri": "https://localhost:8080/"
        },
        "id": "lpOnGLmvr58r",
        "outputId": "f6d599b4-b3e2-45b9-e76c-29feb62d1763"
      },
      "execution_count": 10,
      "outputs": [
        {
          "output_type": "stream",
          "name": "stdout",
          "text": [
            "Le temps est beau aujourd'hui.\n"
          ]
        }
      ]
    },
    {
      "cell_type": "code",
      "source": [
        "# Question Answering\n",
        "\n",
        "text = '''The water cycle describes how water moves through Earth's atmosphere, land, and oceans.\n",
        "It begins with evaporation, where the sun heats water in rivers, lakes, and oceans.\n",
        "This water turns into vapor and rises into the atmosphere.\n",
        "As the vapor cools, it condenses into clouds.\n",
        "Eventually, the water falls back to Earth as precipitation, like rain or snow.\n",
        "Some of this water flows over land as runoff, returning to rivers and oceans.\n",
        "Other water seeps into the ground and becomes groundwater.\n",
        "Plants also release water into the air through transpiration.\n",
        "Together, evaporation and transpiration are called evapotranspiration.\n",
        "This cycle plays a vital role in weather, climate, and sustaining life'''\n",
        "\n",
        "question = \"question : What is transpiration?\"  + text\n",
        "inputs = tokenizer(question, return_tensors=\"pt\")\n",
        "outputs = model.generate(**inputs)\n",
        "\n",
        "print(\"Answer:\", tokenizer.decode(outputs[0], skip_special_tokens=True))"
      ],
      "metadata": {
        "colab": {
          "base_uri": "https://localhost:8080/"
        },
        "id": "UmC1S3PXuKBa",
        "outputId": "bb1d7754-5e12-4373-ba30-867efb8bc8ef"
      },
      "execution_count": 12,
      "outputs": [
        {
          "output_type": "stream",
          "name": "stdout",
          "text": [
            "Answer: Plants also release water into the air\n"
          ]
        }
      ]
    }
  ]
}